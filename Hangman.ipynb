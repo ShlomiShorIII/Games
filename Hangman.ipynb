{
  "nbformat": 4,
  "nbformat_minor": 0,
  "metadata": {
    "colab": {
      "provenance": []
    },
    "kernelspec": {
      "name": "python3",
      "display_name": "Python 3"
    },
    "language_info": {
      "name": "python"
    }
  },
  "cells": [
    {
      "cell_type": "code",
      "source": [
        "!pip install country_list"
      ],
      "metadata": {
        "colab": {
          "base_uri": "https://localhost:8080/"
        },
        "id": "tEP0JhZ6ELTN",
        "outputId": "a2f011a8-956f-4450-e59b-7748e76ea363"
      },
      "execution_count": 27,
      "outputs": [
        {
          "output_type": "stream",
          "name": "stdout",
          "text": [
            "Requirement already satisfied: country_list in /usr/local/lib/python3.10/dist-packages (1.1.0)\n"
          ]
        }
      ]
    },
    {
      "cell_type": "code",
      "source": [
        "import random\n",
        "import country_list\n",
        "from country_list import countries_for_language"
      ],
      "metadata": {
        "id": "mJUVO7erFbPS"
      },
      "execution_count": 28,
      "outputs": []
    },
    {
      "cell_type": "code",
      "source": [
        "country_dict = countries_for_language('en')\n",
        "country_list = [country[1] for country in country_dict]\n",
        "print(country_list)"
      ],
      "metadata": {
        "colab": {
          "base_uri": "https://localhost:8080/"
        },
        "id": "dKxn9iDjFe1A",
        "outputId": "404083a6-82bc-4e94-af5c-9cc78a12919d"
      },
      "execution_count": 29,
      "outputs": [
        {
          "output_type": "stream",
          "name": "stdout",
          "text": [
            "['Afghanistan', 'Åland Islands', 'Albania', 'Algeria', 'American Samoa', 'Andorra', 'Angola', 'Anguilla', 'Antarctica', 'Antigua & Barbuda', 'Argentina', 'Armenia', 'Aruba', 'Australia', 'Austria', 'Azerbaijan', 'Bahamas', 'Bahrain', 'Bangladesh', 'Barbados', 'Belarus', 'Belgium', 'Belize', 'Benin', 'Bermuda', 'Bhutan', 'Bolivia', 'Bosnia & Herzegovina', 'Botswana', 'Bouvet Island', 'Brazil', 'British Indian Ocean Territory', 'British Virgin Islands', 'Brunei', 'Bulgaria', 'Burkina Faso', 'Burundi', 'Cambodia', 'Cameroon', 'Canada', 'Cape Verde', 'Caribbean Netherlands', 'Cayman Islands', 'Central African Republic', 'Chad', 'Chile', 'China', 'Christmas Island', 'Cocos (Keeling) Islands', 'Colombia', 'Comoros', 'Congo - Brazzaville', 'Congo - Kinshasa', 'Cook Islands', 'Costa Rica', 'Côte d’Ivoire', 'Croatia', 'Cuba', 'Curaçao', 'Cyprus', 'Czechia', 'Denmark', 'Djibouti', 'Dominica', 'Dominican Republic', 'Ecuador', 'Egypt', 'El Salvador', 'Equatorial Guinea', 'Eritrea', 'Estonia', 'Eswatini', 'Ethiopia', 'Falkland Islands', 'Faroe Islands', 'Fiji', 'Finland', 'France', 'French Guiana', 'French Polynesia', 'French Southern Territories', 'Gabon', 'Gambia', 'Georgia', 'Germany', 'Ghana', 'Gibraltar', 'Greece', 'Greenland', 'Grenada', 'Guadeloupe', 'Guam', 'Guatemala', 'Guernsey', 'Guinea', 'Guinea-Bissau', 'Guyana', 'Haiti', 'Heard & McDonald Islands', 'Honduras', 'Hong Kong SAR China', 'Hungary', 'Iceland', 'India', 'Indonesia', 'Iran', 'Iraq', 'Ireland', 'Isle of Man', 'Israel', 'Italy', 'Jamaica', 'Japan', 'Jersey', 'Jordan', 'Kazakhstan', 'Kenya', 'Kiribati', 'Kuwait', 'Kyrgyzstan', 'Laos', 'Latvia', 'Lebanon', 'Lesotho', 'Liberia', 'Libya', 'Liechtenstein', 'Lithuania', 'Luxembourg', 'Macao SAR China', 'Madagascar', 'Malawi', 'Malaysia', 'Maldives', 'Mali', 'Malta', 'Marshall Islands', 'Martinique', 'Mauritania', 'Mauritius', 'Mayotte', 'Mexico', 'Micronesia', 'Moldova', 'Monaco', 'Mongolia', 'Montenegro', 'Montserrat', 'Morocco', 'Mozambique', 'Myanmar (Burma)', 'Namibia', 'Nauru', 'Nepal', 'Netherlands', 'New Caledonia', 'New Zealand', 'Nicaragua', 'Niger', 'Nigeria', 'Niue', 'Norfolk Island', 'North Korea', 'North Macedonia', 'Northern Mariana Islands', 'Norway', 'Oman', 'Pakistan', 'Palau', 'Palestinian Territories', 'Panama', 'Papua New Guinea', 'Paraguay', 'Peru', 'Philippines', 'Pitcairn Islands', 'Poland', 'Portugal', 'Puerto Rico', 'Qatar', 'Réunion', 'Romania', 'Russia', 'Rwanda', 'Samoa', 'San Marino', 'São Tomé & Príncipe', 'Saudi Arabia', 'Senegal', 'Serbia', 'Seychelles', 'Sierra Leone', 'Singapore', 'Sint Maarten', 'Slovakia', 'Slovenia', 'Solomon Islands', 'Somalia', 'South Africa', 'South Georgia & South Sandwich Islands', 'South Korea', 'South Sudan', 'Spain', 'Sri Lanka', 'St. Barthélemy', 'St. Helena', 'St. Kitts & Nevis', 'St. Lucia', 'St. Martin', 'St. Pierre & Miquelon', 'St. Vincent & Grenadines', 'Sudan', 'Suriname', 'Svalbard & Jan Mayen', 'Sweden', 'Switzerland', 'Syria', 'Taiwan', 'Tajikistan', 'Tanzania', 'Thailand', 'Timor-Leste', 'Togo', 'Tokelau', 'Tonga', 'Trinidad & Tobago', 'Tunisia', 'Turkey', 'Turkmenistan', 'Turks & Caicos Islands', 'Tuvalu', 'U.S. Outlying Islands', 'U.S. Virgin Islands', 'Uganda', 'Ukraine', 'United Arab Emirates', 'United Kingdom', 'United States', 'Uruguay', 'Uzbekistan', 'Vanuatu', 'Vatican City', 'Venezuela', 'Vietnam', 'Wallis & Futuna', 'Western Sahara', 'Yemen', 'Zambia', 'Zimbabwe']\n"
          ]
        }
      ]
    },
    {
      "cell_type": "code",
      "execution_count": 32,
      "metadata": {
        "collapsed": true,
        "id": "6dZfS8GzuLPh"
      },
      "outputs": [],
      "source": [
        "stages = [r'''\n",
        "  +---+\n",
        "  |   |\n",
        "  O   |\n",
        " /|\\  |\n",
        " / \\  |\n",
        "      |\n",
        "=========\n",
        "''', r'''\n",
        "  +---+\n",
        "  |   |\n",
        "  O   |\n",
        " /|\\  |\n",
        " /    |\n",
        "      |\n",
        "=========\n",
        "''', r'''\n",
        "  +---+\n",
        "  |   |\n",
        "  O   |\n",
        " /|\\  |\n",
        "      |\n",
        "      |\n",
        "=========\n",
        "''', '''\n",
        "  +---+\n",
        "  |   |\n",
        "  O   |\n",
        " /|   |\n",
        "      |\n",
        "      |\n",
        "=========''', '''\n",
        "  +---+\n",
        "  |   |\n",
        "  O   |\n",
        "  |   |\n",
        "      |\n",
        "      |\n",
        "=========\n",
        "''', '''\n",
        "  +---+\n",
        "  |   |\n",
        "  O   |\n",
        "      |\n",
        "      |\n",
        "      |\n",
        "=========\n",
        "''', '''\n",
        "  +---+\n",
        "  |   |\n",
        "      |\n",
        "      |\n",
        "      |\n",
        "      |\n",
        "=========\n",
        "''']\n"
      ]
    },
    {
      "cell_type": "code",
      "source": [
        "chosen_country = random.choice(country_list).lower()\n",
        "print(\"Hello To Our Hangman Game \\nPlease guess the country\\n\")\n",
        "# print(chosen_country)\n",
        "\n",
        "word_length = len(chosen_country)\n",
        "placeholder = \" \".join([\"_\"] * word_length)\n",
        "print(placeholder)\n",
        "\n",
        "word_length = len(chosen_country)\n",
        "for position in range(word_length):\n",
        "    placeholder += \"_\"\n",
        "\n",
        "game_over = False\n",
        "correct_letters = []\n",
        "lives = 6\n",
        "\n",
        "while not game_over:\n",
        "\n",
        "    guess = input(\"Guess a letter: \").lower()\n",
        "    if guess not in chosen_country:\n",
        "        lives -= 1\n",
        "        print(f'Wrong guess. You have {lives} lives left.')\n",
        "\n",
        "    display = \"\"\n",
        "\n",
        "    for letter in chosen_country:\n",
        "        if letter == guess:\n",
        "            display += letter\n",
        "            correct_letters.append(guess)\n",
        "        elif letter in correct_letters:\n",
        "            display += letter\n",
        "        else:\n",
        "            display += \"_\"\n",
        "\n",
        "    print(display)\n",
        "\n",
        "    if lives == 0:\n",
        "        game_over = True\n",
        "        print(f'You Lose, the country was {chosen_country}')\n",
        "    elif \"_\" not in display:\n",
        "        game_over = True\n",
        "        print(\"You win.\")\n",
        "\n",
        "    print(stages[lives])"
      ],
      "metadata": {
        "colab": {
          "base_uri": "https://localhost:8080/"
        },
        "id": "KTgKN_di9odV",
        "outputId": "6a3c8ba8-aced-4b86-8b53-decdaff7464b"
      },
      "execution_count": 40,
      "outputs": [
        {
          "output_type": "stream",
          "name": "stdout",
          "text": [
            "Hello To Our Hangman Game \n",
            "Please guess the country\n",
            "\n",
            "_ _ _ _\n",
            "Guess a letter: e\n",
            "Wrong guess. You have 5 lives left.\n",
            "____\n",
            "\n",
            "  +---+\n",
            "  |   |\n",
            "  O   |\n",
            "      |\n",
            "      |\n",
            "      |\n",
            "=========\n",
            "\n",
            "Guess a letter: o\n",
            "Wrong guess. You have 4 lives left.\n",
            "____\n",
            "\n",
            "  +---+\n",
            "  |   |\n",
            "  O   |\n",
            "  |   |\n",
            "      |\n",
            "      |\n",
            "=========\n",
            "\n",
            "Guess a letter: a\n",
            "__a_\n",
            "\n",
            "  +---+\n",
            "  |   |\n",
            "  O   |\n",
            "  |   |\n",
            "      |\n",
            "      |\n",
            "=========\n",
            "\n",
            "Guess a letter: y\n",
            "Wrong guess. You have 3 lives left.\n",
            "__a_\n",
            "\n",
            "  +---+\n",
            "  |   |\n",
            "  O   |\n",
            " /|   |\n",
            "      |\n",
            "      |\n",
            "=========\n",
            "Guess a letter: i\n",
            "i_a_\n",
            "\n",
            "  +---+\n",
            "  |   |\n",
            "  O   |\n",
            " /|   |\n",
            "      |\n",
            "      |\n",
            "=========\n",
            "Guess a letter: r\n",
            "ira_\n",
            "\n",
            "  +---+\n",
            "  |   |\n",
            "  O   |\n",
            " /|   |\n",
            "      |\n",
            "      |\n",
            "=========\n",
            "Guess a letter: n\n",
            "iran\n",
            "You win.\n",
            "\n",
            "  +---+\n",
            "  |   |\n",
            "  O   |\n",
            " /|   |\n",
            "      |\n",
            "      |\n",
            "=========\n"
          ]
        }
      ]
    }
  ]
}