{
  "nbformat": 4,
  "nbformat_minor": 0,
  "metadata": {
    "colab": {
      "provenance": []
    },
    "kernelspec": {
      "name": "python3",
      "display_name": "Python 3"
    },
    "language_info": {
      "name": "python"
    }
  },
  "cells": [
    {
      "cell_type": "code",
      "source": [
        "import random"
      ],
      "metadata": {
        "id": "MmC-FC7pfKLW"
      },
      "execution_count": 1,
      "outputs": []
    },
    {
      "cell_type": "code",
      "execution_count": 2,
      "metadata": {
        "colab": {
          "base_uri": "https://localhost:8080/"
        },
        "id": "XveonvRpfIvV",
        "outputId": "6606247a-f1eb-469b-f38c-50704241e6fe"
      },
      "outputs": [
        {
          "output_type": "stream",
          "name": "stdout",
          "text": [
            "What do you choose? Type 0 for Rock, 1 for Paper or 2 for Scissors.\n",
            "0\n",
            "\n",
            "    _______\n",
            "---'   ____)\n",
            "      (_____)\n",
            "      (_____)\n",
            "      (____)\n",
            "---.__(___)\n",
            "\n",
            "\"Computer chose:\" \n",
            "    _______\n",
            "---'   ____)\n",
            "      (_____)\n",
            "      (_____)\n",
            "      (____)\n",
            "---.__(___)\n",
            "\n",
            "Draw!\n"
          ]
        }
      ],
      "source": [
        "rock = '''\n",
        "    _______\n",
        "---'   ____)\n",
        "      (_____)\n",
        "      (_____)\n",
        "      (____)\n",
        "---.__(___)\n",
        "'''\n",
        "\n",
        "paper = '''\n",
        "    _______\n",
        "---'   ____)____\n",
        "          ______)\n",
        "          _______)\n",
        "         _______)\n",
        "---.__________)\n",
        "'''\n",
        "\n",
        "scissors = '''\n",
        "    _______\n",
        "---'   ____)____\n",
        "          ______)\n",
        "       __________)\n",
        "      (____)\n",
        "---.__(___)\n",
        "'''\n",
        "\n",
        "images = [rock,paper,scissors]\n",
        "computer_choice2 = random.randint(0,2)\n",
        "user_choice = int(input(\"What do you choose? Type 0 for Rock, 1 for Paper or 2 for Scissors.\\n\"))\n",
        "print(images[user_choice])\n",
        "print(f'\"Computer chose:\" {images[computer_choice2]}')\n",
        "if user_choice > 2 or user_choice < 0:\n",
        "    print(\"You typed an invalid number. You Lose!\")\n",
        "elif user_choice == 0 and computer_choice2 == 2:\n",
        "    print(\"You Win!\")\n",
        "elif computer_choice2 == 0 and user_choice == 2:\n",
        "    print(\"You Lose!\")\n",
        "elif computer_choice2 > user_choice:\n",
        "    print( \"You Lose!\")\n",
        "elif computer_choice2 < user_choice:\n",
        "        print( \"You Win!\")\n",
        "elif computer_choice2 == user_choice:\n",
        "    print(\"Draw!\")"
      ]
    }
  ]
}